{
 "cells": [
  {
   "attachments": {},
   "cell_type": "markdown",
   "metadata": {},
   "source": [
    "# Задание 2.3\n",
    "Напишите функцию delete_columns(df, col=[]), которая удаляет столбцы из DataFrame и возвращает новую таблицу. Если одного из указанных столбцов не существует в таблице, то функция должна возвращать None.\n",
    "\n",
    "Пример DataFrame:\n"
   ]
  },
  {
   "cell_type": "code",
   "execution_count": 1,
   "metadata": {},
   "outputs": [
    {
     "data": {
      "text/html": [
       "<div>\n",
       "<style scoped>\n",
       "    .dataframe tbody tr th:only-of-type {\n",
       "        vertical-align: middle;\n",
       "    }\n",
       "\n",
       "    .dataframe tbody tr th {\n",
       "        vertical-align: top;\n",
       "    }\n",
       "\n",
       "    .dataframe thead th {\n",
       "        text-align: right;\n",
       "    }\n",
       "</style>\n",
       "<table border=\"1\" class=\"dataframe\">\n",
       "  <thead>\n",
       "    <tr style=\"text-align: right;\">\n",
       "      <th></th>\n",
       "      <th>number</th>\n",
       "      <th>cust_id</th>\n",
       "      <th>cust_age</th>\n",
       "      <th>cust_sale</th>\n",
       "      <th>cust_year_birth</th>\n",
       "      <th>cust_order</th>\n",
       "    </tr>\n",
       "  </thead>\n",
       "  <tbody>\n",
       "    <tr>\n",
       "      <th>0</th>\n",
       "      <td>0</td>\n",
       "      <td>128</td>\n",
       "      <td>13</td>\n",
       "      <td>0.00</td>\n",
       "      <td>2008</td>\n",
       "      <td>1400</td>\n",
       "    </tr>\n",
       "    <tr>\n",
       "      <th>1</th>\n",
       "      <td>1</td>\n",
       "      <td>1201</td>\n",
       "      <td>21</td>\n",
       "      <td>0.00</td>\n",
       "      <td>2000</td>\n",
       "      <td>14142</td>\n",
       "    </tr>\n",
       "    <tr>\n",
       "      <th>2</th>\n",
       "      <td>2</td>\n",
       "      <td>9832</td>\n",
       "      <td>19</td>\n",
       "      <td>0.20</td>\n",
       "      <td>2002</td>\n",
       "      <td>900</td>\n",
       "    </tr>\n",
       "    <tr>\n",
       "      <th>3</th>\n",
       "      <td>3</td>\n",
       "      <td>4392</td>\n",
       "      <td>21</td>\n",
       "      <td>0.15</td>\n",
       "      <td>2000</td>\n",
       "      <td>1240</td>\n",
       "    </tr>\n",
       "    <tr>\n",
       "      <th>4</th>\n",
       "      <td>4</td>\n",
       "      <td>7472</td>\n",
       "      <td>60</td>\n",
       "      <td>0.30</td>\n",
       "      <td>1961</td>\n",
       "      <td>8430</td>\n",
       "    </tr>\n",
       "  </tbody>\n",
       "</table>\n",
       "</div>"
      ],
      "text/plain": [
       "   number  cust_id  cust_age  cust_sale  cust_year_birth  cust_order\n",
       "0       0      128        13       0.00             2008        1400\n",
       "1       1     1201        21       0.00             2000       14142\n",
       "2       2     9832        19       0.20             2002         900\n",
       "3       3     4392        21       0.15             2000        1240\n",
       "4       4     7472        60       0.30             1961        8430"
      ]
     },
     "metadata": {},
     "output_type": "display_data"
    }
   ],
   "source": [
    "import pandas as pd\n",
    "\n",
    "customer_df = pd.DataFrame({\n",
    "            'number': [0, 1, 2, 3, 4],\n",
    "            'cust_id': [128, 1201, 9832, 4392, 7472],\n",
    "            'cust_age': [13, 21, 19, 21, 60],\n",
    "            'cust_sale': [0, 0, 0.2, 0.15, 0.3],\n",
    "            'cust_year_birth': [2008, 2000, 2002, 2000, 1961],\n",
    "            'cust_order': [1400, 14142, 900, 1240, 8430]\n",
    "        })\n",
    "\n",
    "display(customer_df)"
   ]
  },
  {
   "attachments": {},
   "cell_type": "markdown",
   "metadata": {},
   "source": [
    "#### Решение:"
   ]
  },
  {
   "cell_type": "code",
   "execution_count": 2,
   "metadata": {},
   "outputs": [
    {
     "name": "stdout",
     "output_type": "stream",
     "text": [
      "Вариант 1\n",
      "   number  cust_id  cust_age  cust_year_birth  cust_order\n",
      "0       0      128        13             2008        1400\n",
      "1       1     1201        21             2000       14142\n",
      "2       2     9832        19             2002         900\n",
      "3       3     4392        21             2000        1240\n",
      "4       4     7472        60             1961        8430\n",
      "\n",
      "Вариант 2\n",
      "   number2  cust_id2  cust_age2  cust_year_birth2  cust_order2\n",
      "0        0       128         13              2008         1400\n",
      "1        1      1201         21              2000        14142\n",
      "2        2      9832         19              2002          900\n",
      "3        3      4392         21              2000         1240\n",
      "4        4      7472         60              1961         8430\n"
     ]
    }
   ],
   "source": [
    "def delete_columns(df, col=[]):\n",
    "    for cc in col:\n",
    "        if cc not in df.columns:\n",
    "            return None\n",
    "    return df.drop(col, axis=1)\n",
    "\n",
    "print('Вариант 1')\n",
    "\n",
    "test_df_1 = pd.DataFrame({\n",
    "            'number': [0, 1, 2, 3, 4],\n",
    "            'cust_id': [128, 1201, 9832, 4392, 7472],\n",
    "            'cust_age': [13, 21, 19, 21, 60],\n",
    "            'cust_sale': [0, 0, 0.2, 0.15, 0.3],\n",
    "            'cust_year_birth': [2008, 2000, 2002, 2000, 1961],\n",
    "            'cust_order': [1400, 14142, 900, 1240, 8430]\n",
    "        })\n",
    "\n",
    "\n",
    "print(delete_columns(col = ['cust_sale'], df = test_df_1))\n",
    "\n",
    "print()\n",
    "print('Вариант 2')\n",
    "\n",
    "\n",
    " \n",
    "test_df_2 = pd.DataFrame({\n",
    "            'number2': [0, 1, 2, 3, 4],\n",
    "            'cust_id2': [128, 1201, 9832, 4392, 7472],\n",
    "            'cust_age2': [13, 21, 19, 21, 60],\n",
    "            'cust_sale2': [0, 0, 0.2, 0.15, 0.3],\n",
    "            'cust_year_birth2': [2008, 2000, 2002, 2000, 1961],\n",
    "            'cust_order2': [1400, 14142, 900, 1240, 8430]\n",
    "        })\n",
    "\n",
    "\n",
    "print(delete_columns(col = ['cust_sale2', 'cust_sale2'], df = test_df_2))\n"
   ]
  },
  {
   "attachments": {},
   "cell_type": "markdown",
   "metadata": {},
   "source": [
    "# Задание 2.4\n",
    "\n",
    "Задан DataFrame countries_df, содержащий следующие столбцы: название страны, население (population) в миллионах человек и площадь страны (square) в квадратных километрах."
   ]
  },
  {
   "cell_type": "code",
   "execution_count": 3,
   "metadata": {},
   "outputs": [
    {
     "data": {
      "text/html": [
       "<div>\n",
       "<style scoped>\n",
       "    .dataframe tbody tr th:only-of-type {\n",
       "        vertical-align: middle;\n",
       "    }\n",
       "\n",
       "    .dataframe tbody tr th {\n",
       "        vertical-align: top;\n",
       "    }\n",
       "\n",
       "    .dataframe thead th {\n",
       "        text-align: right;\n",
       "    }\n",
       "</style>\n",
       "<table border=\"1\" class=\"dataframe\">\n",
       "  <thead>\n",
       "    <tr style=\"text-align: right;\">\n",
       "      <th></th>\n",
       "      <th>country</th>\n",
       "      <th>population</th>\n",
       "      <th>square</th>\n",
       "    </tr>\n",
       "  </thead>\n",
       "  <tbody>\n",
       "    <tr>\n",
       "      <th>0</th>\n",
       "      <td>Англия</td>\n",
       "      <td>56.29</td>\n",
       "      <td>133396</td>\n",
       "    </tr>\n",
       "    <tr>\n",
       "      <th>1</th>\n",
       "      <td>Канада</td>\n",
       "      <td>38.05</td>\n",
       "      <td>9984670</td>\n",
       "    </tr>\n",
       "    <tr>\n",
       "      <th>2</th>\n",
       "      <td>США</td>\n",
       "      <td>322.28</td>\n",
       "      <td>9826630</td>\n",
       "    </tr>\n",
       "    <tr>\n",
       "      <th>3</th>\n",
       "      <td>Россия</td>\n",
       "      <td>146.24</td>\n",
       "      <td>17125191</td>\n",
       "    </tr>\n",
       "    <tr>\n",
       "      <th>4</th>\n",
       "      <td>Украина</td>\n",
       "      <td>45.50</td>\n",
       "      <td>603628</td>\n",
       "    </tr>\n",
       "    <tr>\n",
       "      <th>5</th>\n",
       "      <td>Беларусь</td>\n",
       "      <td>9.50</td>\n",
       "      <td>207600</td>\n",
       "    </tr>\n",
       "    <tr>\n",
       "      <th>6</th>\n",
       "      <td>Казахстан</td>\n",
       "      <td>17.04</td>\n",
       "      <td>2724902</td>\n",
       "    </tr>\n",
       "  </tbody>\n",
       "</table>\n",
       "</div>"
      ],
      "text/plain": [
       "     country  population    square\n",
       "0     Англия       56.29    133396\n",
       "1     Канада       38.05   9984670\n",
       "2        США      322.28   9826630\n",
       "3     Россия      146.24  17125191\n",
       "4    Украина       45.50    603628\n",
       "5   Беларусь        9.50    207600\n",
       "6  Казахстан       17.04   2724902"
      ]
     },
     "metadata": {},
     "output_type": "display_data"
    }
   ],
   "source": [
    "countries_df = pd.DataFrame({\n",
    "    'country': ['Англия', 'Канада', 'США', 'Россия', 'Украина', 'Беларусь', 'Казахстан'],\n",
    "    'population': [56.29, 38.05, 322.28, 146.24, 45.5, 9.5, 17.04],\n",
    "    'square': [133396, 9984670, 9826630, 17125191, 603628, 207600, 2724902]\n",
    "})\n",
    "display(countries_df)"
   ]
  },
  {
   "attachments": {},
   "cell_type": "markdown",
   "metadata": {},
   "source": [
    "Для каждой страны рассчитайте плотность населения (количество человек на квадратный километр).\n",
    "\n",
    "Затем по полученным данным рассчитайте среднее по плотностям населения в указанных странах. Ответ округлите до сотых.\n",
    "\n",
    "Плотность населения рассчитывается как количество человек, проживающих на территории отдельной страны, делённое на площадь этой страны. Обратите внимание, что население в таблице представлено в миллионах."
   ]
  },
  {
   "cell_type": "code",
   "execution_count": 4,
   "metadata": {},
   "outputs": [
    {
     "name": "stdout",
     "output_type": "stream",
     "text": [
      "84.93\n"
     ]
    }
   ],
   "source": [
    "countries_df['density'] = countries_df['population'] / countries_df['square'] * 1e6\n",
    "print(round(countries_df['density'].mean(), 2))"
   ]
  },
  {
   "attachments": {},
   "cell_type": "markdown",
   "metadata": {},
   "source": [
    "# Заданеие 3.3\n",
    "Создайте в таблице melb_df признак WeekdaySale (день недели). Найдите, сколько объектов недвижимости было продано в выходные (суббота и воскресенье), результат занесите в переменную weekend_count. В качестве ответа введите результат вывода переменной weekend_count."
   ]
  },
  {
   "cell_type": "code",
   "execution_count": 8,
   "metadata": {},
   "outputs": [
    {
     "name": "stdout",
     "output_type": "stream",
     "text": [
      "12822\n"
     ]
    }
   ],
   "source": [
    "import pandas as pd\n",
    "melb_data = pd.read_csv('D:\\\\IDE\\\\data\\\\melb_data_ps.csv', sep=',') # читаем файл\n",
    "melb_df = melb_data.copy() # делаем копию, чтобы не повредить исходник\n",
    "melb_df['Date'] = pd.to_datetime(melb_df['Date'], dayfirst=True) # преобразовываем стобцы с датами в формат datetime\n",
    "melb_df['WeekdaySale'] = melb_df['Date'].dt.dayofweek # создаем признак weekdaysale(день недели)\n",
    "weekend_count = melb_df[(melb_df['WeekdaySale'] == 5) | (melb_df['WeekdaySale'] == 6)].shape[0] # поиск продаж в выходные дни 5 - суббота, 6 - воскресенье.\n",
    "print(weekend_count)"
   ]
  },
  {
   "attachments": {},
   "cell_type": "markdown",
   "metadata": {},
   "source": [
    "# Задание 3.4\n",
    "\n",
    "- Вам представлены [данные](https://raw.githubusercontent.com/justmarkham/pandas-videos/master/data/ufo.csv) (в формате csv) об отчётах очевидцев НЛО в США за период с 1930 по 2020 год.\n",
    "\n",
    "В данных есть следующие признаки:\n",
    "\n",
    "- \"City\" — город, где был замечен НЛО;\n",
    "- \"Colors Reported\" — цвет объекта;\n",
    "- \"Shape Reported\" — форма объекта;\n",
    "- \"State\" — обозначение штата;\n",
    "- \"Time\" — время, когда был замечен НЛО (данные отсортированы от старых наблюдений к новым). \n",
    "- Прочитайте данные, сделайте преобразование времени к формату datetime и выполните задания ниже. \n",
    "\n",
    "В каком году отмечается наибольшее количество случаев наблюдения ЛО в США??"
   ]
  },
  {
   "cell_type": "code",
   "execution_count": 4,
   "metadata": {},
   "outputs": [
    {
     "name": "stdout",
     "output_type": "stream",
     "text": [
      "Max year sold: 1999\n"
     ]
    }
   ],
   "source": [
    "import pandas as pd # Импортируем библиотеку\n",
    "m_data = pd.read_csv('https://raw.githubusercontent.com/justmarkham/pandas-videos/master/data/ufo.csv') # читаем данные\n",
    "m_data['Time'] = pd.to_datetime(m_data['Time'], dayfirst = True)  #  Преобразуем в формат datetime\n",
    "years_sold = m_data['Time'].dt.year # вытаскиваем год, когда было замечено НЛО в отдельную графу\n",
    "print('Max year sold:', years_sold.mode()[0])# смотрим максимальное количество появлений\n",
    "\n",
    "# mode - Модальное значение, т.е., мода это вариант, который наиболее часто встречается в ряду распределения."
   ]
  },
  {
   "attachments": {},
   "cell_type": "markdown",
   "metadata": {},
   "source": [
    "# Задание 3.5\n",
    "Найдите средний интервал времени(в днях) между двумя последоватеьными случаями наблюдения НЛО в штате Невада(NV)\n",
    "\n",
    "Чтобы выделить дату из столбца Time, можно воспользоваться атрибутом datetime date.\n",
    "\n",
    "Чтобы вычислить разницу между двумя соседними датами в столбце, примените к нему метод [diff](https://pandas.pydata.org/pandas-docs/stable/reference/api/pandas.DataFrame.diff.html).\n",
    "Чтобы перевести интервал времени в дни, воспользуйтесь атрибутом timedelta days."
   ]
  },
  {
   "cell_type": "code",
   "execution_count": 6,
   "metadata": {},
   "outputs": [
    {
     "name": "stdout",
     "output_type": "stream",
     "text": [
      "0        1930-01-06\n",
      "1        1930-06-30\n",
      "2        1931-02-15\n",
      "3        1931-01-06\n",
      "4        1933-04-18\n",
      "            ...    \n",
      "18236    2000-12-31\n",
      "18237    2000-12-31\n",
      "18238    2000-12-31\n",
      "18239    2000-12-31\n",
      "18240    2000-12-31\n",
      "Name: Date, Length: 18241, dtype: object\n",
      "68.72084805653711\n"
     ]
    },
    {
     "data": {
      "text/html": [
       "<div>\n",
       "<style scoped>\n",
       "    .dataframe tbody tr th:only-of-type {\n",
       "        vertical-align: middle;\n",
       "    }\n",
       "\n",
       "    .dataframe tbody tr th {\n",
       "        vertical-align: top;\n",
       "    }\n",
       "\n",
       "    .dataframe thead th {\n",
       "        text-align: right;\n",
       "    }\n",
       "</style>\n",
       "<table border=\"1\" class=\"dataframe\">\n",
       "  <thead>\n",
       "    <tr style=\"text-align: right;\">\n",
       "      <th></th>\n",
       "      <th>City</th>\n",
       "      <th>Colors Reported</th>\n",
       "      <th>Shape Reported</th>\n",
       "      <th>State</th>\n",
       "      <th>Time</th>\n",
       "      <th>Date</th>\n",
       "    </tr>\n",
       "  </thead>\n",
       "  <tbody>\n",
       "    <tr>\n",
       "      <th>0</th>\n",
       "      <td>Ithaca</td>\n",
       "      <td>NaN</td>\n",
       "      <td>TRIANGLE</td>\n",
       "      <td>NY</td>\n",
       "      <td>1930-01-06 22:00:00</td>\n",
       "      <td>1930-01-06</td>\n",
       "    </tr>\n",
       "    <tr>\n",
       "      <th>1</th>\n",
       "      <td>Willingboro</td>\n",
       "      <td>NaN</td>\n",
       "      <td>OTHER</td>\n",
       "      <td>NJ</td>\n",
       "      <td>1930-06-30 20:00:00</td>\n",
       "      <td>1930-06-30</td>\n",
       "    </tr>\n",
       "    <tr>\n",
       "      <th>2</th>\n",
       "      <td>Holyoke</td>\n",
       "      <td>NaN</td>\n",
       "      <td>OVAL</td>\n",
       "      <td>CO</td>\n",
       "      <td>1931-02-15 14:00:00</td>\n",
       "      <td>1931-02-15</td>\n",
       "    </tr>\n",
       "    <tr>\n",
       "      <th>3</th>\n",
       "      <td>Abilene</td>\n",
       "      <td>NaN</td>\n",
       "      <td>DISK</td>\n",
       "      <td>KS</td>\n",
       "      <td>1931-01-06 13:00:00</td>\n",
       "      <td>1931-01-06</td>\n",
       "    </tr>\n",
       "    <tr>\n",
       "      <th>4</th>\n",
       "      <td>New York Worlds Fair</td>\n",
       "      <td>NaN</td>\n",
       "      <td>LIGHT</td>\n",
       "      <td>NY</td>\n",
       "      <td>1933-04-18 19:00:00</td>\n",
       "      <td>1933-04-18</td>\n",
       "    </tr>\n",
       "  </tbody>\n",
       "</table>\n",
       "</div>"
      ],
      "text/plain": [
       "                   City Colors Reported Shape Reported State  \\\n",
       "0                Ithaca             NaN       TRIANGLE    NY   \n",
       "1           Willingboro             NaN          OTHER    NJ   \n",
       "2               Holyoke             NaN           OVAL    CO   \n",
       "3               Abilene             NaN           DISK    KS   \n",
       "4  New York Worlds Fair             NaN          LIGHT    NY   \n",
       "\n",
       "                 Time        Date  \n",
       "0 1930-01-06 22:00:00  1930-01-06  \n",
       "1 1930-06-30 20:00:00  1930-06-30  \n",
       "2 1931-02-15 14:00:00  1931-02-15  \n",
       "3 1931-01-06 13:00:00  1931-01-06  \n",
       "4 1933-04-18 19:00:00  1933-04-18  "
      ]
     },
     "metadata": {},
     "output_type": "display_data"
    }
   ],
   "source": [
    "m_data['Date'] = m_data['Time'].dt.date\n",
    "print(m_data['Date'])\n",
    "print(m_data[m_data['State']=='NV']['Date'].diff().dt.days.mean())\n",
    "display(m_data.head())"
   ]
  },
  {
   "attachments": {},
   "cell_type": "markdown",
   "metadata": {},
   "source": [
    "# Задание 4.2\n",
    "Ранее, в задании 3.3, мы создали признак WeekdaySale в таблице melb_df — день недели продажи. Из полученных в задании результатов можно сделать вывод, что объекты недвижимости в Мельбурне продаются преимущественно по выходным (суббота и воскресенье).\n",
    "Напишите функцию get_weekend(weekday), которая принимает на вход элемент столбца WeekdaySale и возвращает 1, если день является выходным, и 0 — в противном случае, и создайте столбец Weekend в таблице melb_df с помощью неё.\n",
    "\n",
    "Примените эту функцию к столбцу и вычислите среднюю цену объекта недвижимости, проданного в выходные дни. Результат округлите до целых."
   ]
  },
  {
   "cell_type": "code",
   "execution_count": 16,
   "metadata": {},
   "outputs": [
    {
     "name": "stdout",
     "output_type": "stream",
     "text": [
      "1081198.64\n"
     ]
    }
   ],
   "source": [
    "def get_weekend(weekday):\n",
    "    if weekday == 5 or weekday == 6:  # Если день недели является выходным, то\n",
    "        return 1 # возвращается 1\n",
    "    else: # иначе\n",
    "        return 0 # возвращается 1\n",
    "melb_df['Weekend'] = melb_df['WeekdaySale'].apply(get_weekend) # вызывает каждое значение функции\n",
    "print(round(melb_df[melb_df['Weekend']==1]['Price'].mean(), 2)) # выкинуть в выходные дни цены. показать среднюю"
   ]
  },
  {
   "attachments": {},
   "cell_type": "markdown",
   "metadata": {},
   "source": [
    "# Задание 4.3\n",
    "Преобразуйте столбец SellerG с наименованиями риелторских компаний в таблице melb_df следующим образом: оставьте в столбце только 49 самых популярных компаний, а остальные обозначьте как 'other'.\n",
    "Найдите, во сколько раз минимальная цена объектов недвижимости, проданных компанией 'Nelson', больше минимальной цены объектов, проданных компаниями, обозначенными как 'other'. Ответ округлите до десятых."
   ]
  },
  {
   "cell_type": "code",
   "execution_count": 33,
   "metadata": {},
   "outputs": [
    {
     "name": "stdout",
     "output_type": "stream",
     "text": [
      "49\n"
     ]
    },
    {
     "data": {
      "text/plain": [
       "Nelson           1565\n",
       "Jellis           1316\n",
       "other            1234\n",
       "hockingstuart    1167\n",
       "Barry            1011\n",
       "Ray               701\n",
       "Marshall          659\n",
       "Buxton            632\n",
       "Biggin            393\n",
       "Brad              342\n",
       "Woodards          301\n",
       "Fletchers         301\n",
       "Jas               243\n",
       "Greg              239\n",
       "McGrath           222\n",
       "Sweeney           216\n",
       "Noel              205\n",
       "Miles             196\n",
       "RT                184\n",
       "Gary              170\n",
       "Harcourts         168\n",
       "Hodges            157\n",
       "YPA               154\n",
       "Stockdale         150\n",
       "Village           125\n",
       "Kay               119\n",
       "Raine             116\n",
       "Williams          111\n",
       "Love              109\n",
       "Douglas            97\n",
       "Chisholm           77\n",
       "RW                 70\n",
       "Rendina            66\n",
       "HAR                62\n",
       "O'Brien            61\n",
       "C21                57\n",
       "Collins            56\n",
       "Cayzer             52\n",
       "Purplebricks       51\n",
       "Eview              51\n",
       "Philip             48\n",
       "Buckingham         46\n",
       "Bells              44\n",
       "Thomson            42\n",
       "Alexkarbon         40\n",
       "Nick               40\n",
       "Burnham            39\n",
       "McDonald           39\n",
       "Moonee             36\n",
       "Name: SellerG, dtype: int64"
      ]
     },
     "metadata": {},
     "output_type": "display_data"
    },
    {
     "name": "stdout",
     "output_type": "stream",
     "text": [
      "0          Biggin\n",
      "1          Biggin\n",
      "2          Biggin\n",
      "3          Biggin\n",
      "4          Nelson\n",
      "           ...   \n",
      "13575       Barry\n",
      "13576    Williams\n",
      "13577       Raine\n",
      "13578     Sweeney\n",
      "13579     Village\n",
      "Name: SellerG, Length: 13580, dtype: object\n",
      "1.3\n"
     ]
    }
   ],
   "source": [
    "# Не обязательно делать, но для построение логики решения разберем\n",
    "print(melb_df['SellerG'].nunique()) # Вычислив количество уникальных значений в столбце с помощью метода nunique()\n",
    "display(melb_df['SellerG'].value_counts()) # посмотрим на частоту каждого подтипа улицы \n",
    "\n",
    "# Само решение\n",
    "popular_types = melb_df['SellerG'].value_counts().nlargest(49).index # Отбираем 49 популярных \n",
    "melb_df['SellerG'] = melb_df['SellerG'].apply(lambda x: x if x in popular_types else 'other') # заменяем значения улиц, не попавших в список популярных на строку 'other'\n",
    "print(melb_df['SellerG'])\n",
    "a = melb_df[melb_df['SellerG'] == 'Nelson']['Price'].min() # минимальная цена объектов проданны Nelson\n",
    "b = melb_df[melb_df['SellerG'] == 'other']['Price'].min() # минимальная цена объектов проданны other\n",
    "print(round(a/b, 1)) # разница их, с округлением до десятых"
   ]
  },
  {
   "attachments": {},
   "cell_type": "markdown",
   "metadata": {},
   "source": [
    "# Задание 4.4\n",
    "Представьте, что вы занимаетесь подготовкой данных о вакансиях с платформы hh.ru. В вашем распоряжении имеется таблица, в которой с помощью парсинга собраны резюме кандидатов. В этой таблице есть текстовый столбец «Опыт работы». Пример такого столбца представлен ниже в виде объекта Series. Структура текста в столбце фиксирована и не может измениться.\n",
    "\n",
    "Напишите функцию get_experience(arg), аргументом которой является строка столбца с опытом работы. Функция должна возвращать опыт работы в месяцах. Не забудьте привести результат к целому числу.\n",
    "\n",
    "Примечание. Обратите внимание, что опыт работы может выражаться только в годах или только в месяцах. Учтите это при построении своей функции.\n",
    "\n",
    "При проверке мы будем применять вашу функцию к разным Series с помощью метода apply()."
   ]
  },
  {
   "cell_type": "code",
   "execution_count": 1,
   "metadata": {},
   "outputs": [
    {
     "name": "stdout",
     "output_type": "stream",
     "text": [
      "0    99\n",
      "1    41\n",
      "2    21\n",
      "3     3\n",
      "4    72\n",
      "dtype: int64\n"
     ]
    }
   ],
   "source": [
    "import pandas as pd          # импортируем библиотеку пандас\n",
    "test_series_1 = pd.Series([\n",
    "    'Опыт работы 8 лет 3 месяца',\n",
    "    'Опыт работы 3 года 5 месяцев',\n",
    "    'Опыт работы 1 год 9 месяцев',\n",
    "    'Опыт работы 3 месяца',\n",
    "    'Опыт работы 6 лет'\n",
    "]) # Задаем пример тестовых данных №1\n",
    "\n",
    "test_series_2 = pd.Series([\n",
    "    'Опыт работы 5 лет',\n",
    "    'Опыт работы 5 месяцев',\n",
    "    'Опыт работы 1 год 1 месяц',\n",
    "    'Опыт работы 3 месяца',\n",
    "    'Опыт работы 7 лет'\n",
    "]) # Задаем пример тестовых данных №2\n",
    "\n",
    "\n",
    "def get_experience(arg): # пишем функцию\n",
    "    month_key_words = ['месяц', 'месяцев', 'месяца'] # учитываем вариации слов месяц\n",
    "    year_key_words = ['год', 'лет', 'года'] # учитываем вариации слов года\n",
    "    args_splited = arg.split(' ')  # разбиваем строку на пробелы\n",
    "    month = 0 # задаем начальные значения\n",
    "    year = 0 # задаем начальные значения\n",
    "    for i in range(len(args_splited)):   # каждое значение в списке нумеруется \n",
    "        if args_splited[i] in month_key_words: # если значение входит в вариацию месяца то\n",
    "            month = args_splited[i-1] # вычисляем из данных количество месяцев\n",
    "        if args_splited[i] in year_key_words:\n",
    "            year = args_splited[i-1] # вычисляем количество лет\n",
    "    return int(year)*12 + int(month) # переводим всё в месяцыы. года*12 и плюс месяцы\n",
    "\n",
    "print(test_series_1.apply(get_experience))"
   ]
  }
 ],
 "metadata": {
  "kernelspec": {
   "display_name": "Python 3",
   "language": "python",
   "name": "python3"
  },
  "language_info": {
   "codemirror_mode": {
    "name": "ipython",
    "version": 3
   },
   "file_extension": ".py",
   "mimetype": "text/x-python",
   "name": "python",
   "nbconvert_exporter": "python",
   "pygments_lexer": "ipython3",
   "version": "3.10.9 (tags/v3.10.9:1dd9be6, Dec  6 2022, 20:01:21) [MSC v.1934 64 bit (AMD64)]"
  },
  "orig_nbformat": 4,
  "vscode": {
   "interpreter": {
    "hash": "56629ccc9ec10eaf3ebbcd1cc3c826e490b94fc9b83714ce92d07d5e717c092b"
   }
  }
 },
 "nbformat": 4,
 "nbformat_minor": 2
}
