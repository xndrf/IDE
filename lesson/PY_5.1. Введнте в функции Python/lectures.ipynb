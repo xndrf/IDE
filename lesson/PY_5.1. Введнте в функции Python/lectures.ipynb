{
 "cells": [
  {
   "attachments": {},
   "cell_type": "markdown",
   "metadata": {},
   "source": [
    "# Функция\n",
    "\n",
    "**Функция — это фрагмент программного кода, к которому можно обратиться из другого места программы.** (Следует понимать, что «другое место программы» совсем не обязательно должно находиться в том же самом файле, где написана функция. Например, исходный код встроенных в Python функций находится на компьютере непосредственно в папке с самим Python, и интерпретатор использует функции оттуда.)\n",
    "\n"
   ]
  },
  {
   "attachments": {},
   "cell_type": "markdown",
   "metadata": {},
   "source": [
    "**Аргумент (параметр) — это независимая переменная, значение которой используется функцией для выполнения своего исходного кода.** Словосочетание «независимая переменная» означает, что объект, переданный в функцию для обработки, изначально не содержится в функции, а передаётся в неё извне."
   ]
  },
  {
   "attachments": {},
   "cell_type": "markdown",
   "metadata": {},
   "source": [
    "#### Функции позволяют:\n",
    "\n",
    "- выполнять один и тот же набор инструкций (фрагмент исходного кода) несколько раз;\n",
    "- выполнять одни и те же действия с различными входными данными;\n",
    "- структурировать исходный код."
   ]
  },
  {
   "cell_type": "code",
   "execution_count": 3,
   "metadata": {},
   "outputs": [
    {
     "name": "stdout",
     "output_type": "stream",
     "text": [
      "Hello world!\n",
      "Hello world!\n"
     ]
    }
   ],
   "source": [
    "# Пример функции:\n",
    "def first_function():\n",
    "    print(\"Hello world!\")\n",
    "first_function()\n",
    "first_function()"
   ]
  },
  {
   "attachments": {},
   "cell_type": "markdown",
   "metadata": {},
   "source": [
    "# Сигнатура и сематика функции\n",
    "- Сигнатура (название функции) - непосредственный способ назвать функцию, отличить её от остальных.\n",
    "- Семматика - (смысл функции) исходный код, следующий после доветочия до окончания отступа в 4 пробела, задает выполняемые функцией действия, придаёт ей смысл. Однако чаще вам будет встречаться выражение **тело функции**, которое означает то же самое.\n"
   ]
  },
  {
   "attachments": {},
   "cell_type": "markdown",
   "metadata": {},
   "source": [
    "Рассмотрим подробно первую строку:\n",
    "\n",
    "1. Слово def является общим для любой функции — оно даёт интерпретатору понять, что далее следует описание новой функции.\n",
    "\n",
    "2. Сразу через пробел после def следует название функции, которое может быть любым.\n",
    "\n",
    "→ Требования к названиям функции такие же, как и к названиям переменных — вы их уже изучали.\n",
    "\n",
    "→ Важно, чтобы названия функций не повторялись и не использовали названия встроенных функций, таких как print, list, sum и т. д. Если вы создадите функцию с повторяющимся названием, вы просто перезапишете её и уже не сможете воспользоваться исходной версией.\n",
    "\n",
    "→ Старайтесь, чтобы по названию можно было хотя бы примерно понять, какие действия она выполняет.\n",
    "\n",
    "3. Сразу после названия функции без пробела следуют круглые скобки. В них перечисляются названия аргументов (требования к названиям аргументов тоже совпадают с требованиями к названиям переменных), которые функция будет принимать.\n",
    "\n",
    "→ Даже если для данной функции не требуются аргументы (как в примере выше), круглые скобки обязательны!\n",
    "\n",
    "4. Сразу после закрывающейся круглой скобки следует двоеточие, которое позволяет интерпретатору понять, какие именно действия выполняет созданная вами функция.\n",
    "\n",
    "5. После двоеточия с новой строки и с отступом в 4 пробела от начала слова def следует исходный код функции.\n",
    "\n",
    "→ Важно, чтобы отступ в 4 пробела сохранялся до конца исходного кода функции. Как только отступ вернётся на уровень слова def, компьютер поймёт, что исходный код функции окончен"
   ]
  },
  {
   "cell_type": "code",
   "execution_count": 4,
   "metadata": {},
   "outputs": [],
   "source": [
    "def first_function():\n",
    "    # первая строка функции\n",
    "    print(\"Hello world!\")\n",
    "    # вторая строка функции\n",
    "    print(\"Line 2\")\n",
    "# Отступ вернулся на прежний уровень, значит\n",
    "# код функции закончился."
   ]
  },
  {
   "attachments": {},
   "cell_type": "markdown",
   "metadata": {},
   "source": [
    "Как теперь воспользоваться написанной нами функцией?\n",
    "\n",
    "Необходимо написать в скрипте название функции, не забыв добавить к нему круглые скобки.\n",
    "\n",
    "Вот так можно запустить созданную нами функцию first_function:"
   ]
  },
  {
   "cell_type": "code",
   "execution_count": 5,
   "metadata": {},
   "outputs": [
    {
     "name": "stdout",
     "output_type": "stream",
     "text": [
      "Hello world!\n",
      "Line 2\n"
     ]
    }
   ],
   "source": [
    "first_function()"
   ]
  },
  {
   "attachments": {},
   "cell_type": "markdown",
   "metadata": {},
   "source": [
    "Ещё пример функции:\n"
   ]
  },
  {
   "cell_type": "code",
   "execution_count": 6,
   "metadata": {},
   "outputs": [
    {
     "name": "stdout",
     "output_type": "stream",
     "text": [
      "Hours: 1\n",
      "Minutes left: 30\n"
     ]
    }
   ],
   "source": [
    "def print_hours(minutes):\n",
    "    # // — это оператор целочисленного деления\n",
    "    hours = minutes // 60\n",
    "    # % — это оператор получения остатка от деления\n",
    "    left_minutes = minutes % 60\n",
    "    print(\"Hours:\", hours)\n",
    "    print(\"Minutes left:\", left_minutes)\n",
    "    \n",
    "print_hours(90)"
   ]
  },
  {
   "attachments": {},
   "cell_type": "markdown",
   "metadata": {},
   "source": [
    "# Оператор Return\n",
    "\n",
    "- return - оператор, который позволяет функции передать какой-либо объект (число, строку, список, даже другую функцию) в то место, кода, откуда вызывалась фукция.\n",
    "\n",
    "Пример функции, которая принимает на вход расстояние и среднюю скорость и возвращает время в пути:"
   ]
  },
  {
   "cell_type": "code",
   "execution_count": 7,
   "metadata": {},
   "outputs": [],
   "source": [
    "# Назовем функцию get_time (get - получать,\n",
    "# time - время). Она принимает аргументы\n",
    "# distance - расстояние и speed - скорость.\n",
    "def get_time(distance, speed):\n",
    "    result = distance / speed\n",
    "# Чтобы вернуть результат вычислений,\n",
    "# пишем оператор return И название переменной,\n",
    "# значение которой будет передано.\n",
    "    return result"
   ]
  },
  {
   "attachments": {},
   "cell_type": "markdown",
   "metadata": {},
   "source": [
    "- функция готова - теперь её можно запустить непосредственно из исходного кода скрипта.\n",
    "- Передавать аргументы в функцию необходимо в том же самом порядке, в котором они перечисояются в сигнатуре функции: в данном случае первым идёт расстояние, а зател идёт."
   ]
  },
  {
   "cell_type": "code",
   "execution_count": 11,
   "metadata": {},
   "outputs": [
    {
     "name": "stdout",
     "output_type": "stream",
     "text": [
      "2\n"
     ]
    }
   ],
   "source": [
    "time = get_time(120, 60)\n",
    "print(int(time))"
   ]
  },
  {
   "attachments": {},
   "cell_type": "markdown",
   "metadata": {},
   "source": [
    "# Return и несколько переменныхх"
   ]
  },
  {
   "cell_type": "code",
   "execution_count": 13,
   "metadata": {},
   "outputs": [
    {
     "name": "stdout",
     "output_type": "stream",
     "text": [
      "(1, 12)\n"
     ]
    }
   ],
   "source": [
    "def get_time_tuple(distance, speed):\n",
    "    hours = distance // speed\n",
    "    distance_left = distance % speed\n",
    "    kms_per_minute = speed / 60\n",
    "    minutes = round (distance_left / kms_per_minute)\n",
    "    # Аргументы будут возвращены функцией в виде кортежа\n",
    "    return hours, minutes\n",
    "\n",
    "result = get_time_tuple(120, 100)\n",
    "print (result)\n"
   ]
  },
  {
   "attachments": {},
   "cell_type": "markdown",
   "metadata": {},
   "source": [
    "Важно, чтобы количество переменных перед знаком = совпадало с количеством переменных, которое возвращает функция."
   ]
  },
  {
   "cell_type": "code",
   "execution_count": 14,
   "metadata": {},
   "outputs": [
    {
     "name": "stdout",
     "output_type": "stream",
     "text": [
      "Hours to travel: 1\n",
      "Minutes to travel: 12\n"
     ]
    }
   ],
   "source": [
    "# Через запятую перечисляем переменные, в которые сохранится результат\n",
    "hours, minutes = get_time_tuple(120, 100)\n",
    "# Красиво напечатаем результат\n",
    "print(\"Hours to travel:\", hours)\n",
    "print(\"Minutes to travel:\", minutes)\n",
    "# Будет напечатано:\n",
    "# Hours to travel: 1\n",
    "# Minutes to travel: 12"
   ]
  },
  {
   "attachments": {},
   "cell_type": "markdown",
   "metadata": {},
   "source": [
    "# Особенности использования return\n",
    "\n",
    "*Замечание 1* - Если функция печатает что на экран, это не означает, что она возвращает то же значение.\n",
    "\n",
    "*Замечание 2* - Python автоматиччески возвращает None, если разработчик самостоятельно не прописал, что должна возвращать функция.\n",
    "\n",
    "*Замечание 3* - Когда компьютер встречает **return** при выполнении кода функции, он автоматически прекращает выполнение функции, даже если за строкой с **return** следуют дополнительные инструкции."
   ]
  },
  {
   "attachments": {},
   "cell_type": "markdown",
   "metadata": {},
   "source": [
    "Проверим всё это на примере функции, которая принимает на вход список и объект, который необходимо в нём найти. Она ищет его в цикле и возвращает True, если объект найден, и False, если его в списке нет."
   ]
  },
  {
   "cell_type": "code",
   "execution_count": 16,
   "metadata": {},
   "outputs": [],
   "source": [
    "# list_in — список, в котором будем искать объект\n",
    "# Интуитивно хотелось бы назвать аргумент для списка\n",
    "# словом list, однако это привело бы к изменению встроенного\n",
    "# объекта list, что очень нежелательно\n",
    "# obj — аргумент, содержащий объект, который ищет функция\n",
    "def in_list(list_in, obj):\n",
    "    for elem in list_in:\n",
    "        if obj == elem:\n",
    "            print(\"Element is found!\")\n",
    "            return True\n",
    "            print(\"This won’t be printed\")\n",
    "    print(\"Element is NOT found!\")\n",
    "    return False\n",
    "    print(\"This will not be printed either\")"
   ]
  },
  {
   "cell_type": "code",
   "execution_count": 17,
   "metadata": {},
   "outputs": [
    {
     "name": "stdout",
     "output_type": "stream",
     "text": [
      "Element is NOT found!\n",
      "False\n",
      "Element is found!\n",
      "True\n"
     ]
    }
   ],
   "source": [
    "my_list = [1,2,5,7,10]\n",
    "result = in_list(my_list, 3)\n",
    "# Element is NOT found!\n",
    "print(result)\n",
    "# False\n",
    "result = in_list(my_list, 7)\n",
    "# Element is found!\n",
    "print(result)\n",
    "# True"
   ]
  },
  {
   "cell_type": "code",
   "execution_count": null,
   "metadata": {},
   "outputs": [],
   "source": []
  }
 ],
 "metadata": {
  "kernelspec": {
   "display_name": "Python 3",
   "language": "python",
   "name": "python3"
  },
  "language_info": {
   "codemirror_mode": {
    "name": "ipython",
    "version": 3
   },
   "file_extension": ".py",
   "mimetype": "text/x-python",
   "name": "python",
   "nbconvert_exporter": "python",
   "pygments_lexer": "ipython3",
   "version": "3.10.9"
  },
  "orig_nbformat": 4,
  "vscode": {
   "interpreter": {
    "hash": "56629ccc9ec10eaf3ebbcd1cc3c826e490b94fc9b83714ce92d07d5e717c092b"
   }
  }
 },
 "nbformat": 4,
 "nbformat_minor": 2
}
