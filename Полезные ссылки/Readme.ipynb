{
 "cells": [
  {
   "cell_type": "code",
   "execution_count": null,
   "metadata": {},
   "outputs": [],
   "source": []
  },
  {
   "attachments": {},
   "cell_type": "markdown",
   "metadata": {},
   "source": [
    "#### [Горячие клавиши Visual Studio Code 1](https://www.nikomedvedev.ru/other/vscodeshortcuts/hotkeys.html)\n",
    "#### [Горячие клавиши Visual Studio Code 2](https://gist.github.com/kotano/ea9664eb0b97a1b1d87bef444b318176#vscode)\n",
    "#### [Горячие клавиши Visual Studio Code 3](https://htmlacademy.ru/blog/soft/hot-keys)\n",
    "#### [Краткое руководство NumPy](https://pyprog.pro/short_guide.html)\n",
    "###### [Настольна шпаргалка по Pandas](file:///C:/Users/admin/Downloads/Pandas_info.pdf) \n",
    "#### [Книга / справочник при работе с Pandas](https://itfy.org/threads/kniga-o-biblioteke-pandas-pandas-rabota-s-dannymi-abdraxmanov-m-i.1262/)\n",
    "#### [Введение в анализ данных с помощью Pandas на Habr](https://habr.com/ru/post/196980/)\n",
    "#### [Статья «Feature engineering: шесть шагов для создания успешной модели машинного обучения»](https://hightech.fm/2018/08/09/featureengineering) \n",
    "#### [Наборы данных фильмов](https://grouplens.org/datasets/movielens/)\n",
    "#### [Книга - справочник при работе с Pandas](https://itfy.org/threads/kniga-o-biblioteke-pandas-pandas-rabota-s-dannymi-abdraxmanov-m-i.1262/)\n",
    "#### [Статья о методах объединения DataFrame в Pandas](https://pythobyte.com/how-to-merge-dataframes-in-pandas-23614/)\n",
    "#### [GIT - почитать, посмотреть профиль](https://github.com/jennybc)\n",
    "#### [DataScience art](https://allisonhorst.com/data-science-art)\n",
    "\n"
   ]
  },
  {
   "attachments": {},
   "cell_type": "markdown",
   "metadata": {},
   "source": [
    "PY_12. Задание 4.3, 6.3, Задание 8.7 C, как найти\n"
   ]
  }
 ],
 "metadata": {
  "kernelspec": {
   "display_name": "Python 3",
   "language": "python",
   "name": "python3"
  },
  "language_info": {
   "codemirror_mode": {
    "name": "ipython",
    "version": 3
   },
   "file_extension": ".py",
   "mimetype": "text/x-python",
   "name": "python",
   "nbconvert_exporter": "python",
   "pygments_lexer": "ipython3",
   "version": "3.10.10"
  },
  "orig_nbformat": 4,
  "vscode": {
   "interpreter": {
    "hash": "56629ccc9ec10eaf3ebbcd1cc3c826e490b94fc9b83714ce92d07d5e717c092b"
   }
  }
 },
 "nbformat": 4,
 "nbformat_minor": 2
}
