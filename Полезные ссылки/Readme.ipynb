{
 "cells": [
  {
   "cell_type": "code",
   "execution_count": null,
   "metadata": {},
   "outputs": [],
   "source": []
  },
  {
   "attachments": {},
   "cell_type": "markdown",
   "metadata": {},
   "source": [
    "#### [Горячие клавиши Visual Studio Code 1](https://www.nikomedvedev.ru/other/vscodeshortcuts/hotkeys.html)\n",
    "#### [Горячие клавиши Visual Studio Code 2](https://gist.github.com/kotano/ea9664eb0b97a1b1d87bef444b318176#vscode)\n",
    "#### [Горячие клавиши Visual Studio Code 3](https://htmlacademy.ru/blog/soft/hot-keys)\n",
    "#### [Краткое руководство NumPy](https://pyprog.pro/short_guide.html)\n",
    "###### [Настольна шпаргалка по Pandas](file:///C:/Users/admin/Downloads/Pandas_info.pdf) \n",
    "#### [Книга / справочник при работе с Pandas](https://itfy.org/threads/kniga-o-biblioteke-pandas-pandas-rabota-s-dannymi-abdraxmanov-m-i.1262/)\n",
    "#### [Введение в анализ данных с помощью Pandas на Habr](https://habr.com/ru/post/196980/)\n",
    "#### [Статья «Feature engineering: шесть шагов для создания успешной модели машинного обучения»](https://hightech.fm/2018/08/09/featureengineering) \n",
    "#### [Наборы данных фильмов](https://grouplens.org/datasets/movielens/)\n",
    "\n"
   ]
  },
  {
   "attachments": {},
   "cell_type": "markdown",
   "metadata": {},
   "source": [
    "PY_12. Задание 4.3, 6.3\n"
   ]
  },
  {
   "cell_type": "code",
   "execution_count": 1,
   "metadata": {},
   "outputs": [
    {
     "ename": "",
     "evalue": "",
     "output_type": "error",
     "traceback": [
      "\u001b[1;31mПри выполнении кода в текущей ячейке или предыдущей ячейке ядро аварийно завершило работу. Проверьте код в ячейках, чтобы определить возможную причину сбоя. Щелкните <a href=\"https://aka.ms/vscodeJupyterKernelCrash\">здесь</a> для получения дополнительных сведений. Подробнее см. в <a href='command:jupyter.viewOutput'>журнале Jupyter</a>."
     ]
    }
   ],
   "source": [
    "import pandas as pd\n",
    "import os\n",
    "\n",
    "def concat_user_files(path):\n",
    "    data = pd.DataFrame()\n",
    "    file_names = os.listdir(path)\n",
    "    file_names.sort()\n",
    "    for file in file_names:\n",
    "        tmp_data = pd.read_csv(path + '/' + file)\n",
    "        data = pd.concat([data, tmp_data], axis=0, ignore_index=True)\n",
    "    data = data.drop_duplicates()\n",
    "    return data"
   ]
  }
 ],
 "metadata": {
  "kernelspec": {
   "display_name": "Python 3",
   "language": "python",
   "name": "python3"
  },
  "language_info": {
   "codemirror_mode": {
    "name": "ipython",
    "version": 3
   },
   "file_extension": ".py",
   "mimetype": "text/x-python",
   "name": "python",
   "nbconvert_exporter": "python",
   "pygments_lexer": "ipython3",
   "version": "3.10.9 (tags/v3.10.9:1dd9be6, Dec  6 2022, 20:01:21) [MSC v.1934 64 bit (AMD64)]"
  },
  "orig_nbformat": 4,
  "vscode": {
   "interpreter": {
    "hash": "56629ccc9ec10eaf3ebbcd1cc3c826e490b94fc9b83714ce92d07d5e717c092b"
   }
  }
 },
 "nbformat": 4,
 "nbformat_minor": 2
}
