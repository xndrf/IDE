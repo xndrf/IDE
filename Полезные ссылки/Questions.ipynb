{
 "cells": [
  {
   "cell_type": "code",
   "execution_count": null,
   "metadata": {},
   "outputs": [],
   "source": []
  },
  {
   "attachments": {},
   "cell_type": "markdown",
   "metadata": {},
   "source": [
    "1. Поупражняться с функцией > map()\n",
    "2. Поупражняться с функцей lambda"
   ]
  },
  {
   "cell_type": "markdown",
   "metadata": {},
   "source": []
  }
 ],
 "metadata": {
  "kernelspec": {
   "display_name": "Python 3",
   "language": "python",
   "name": "python3"
  },
  "language_info": {
   "name": "python",
   "version": "3.10.10"
  },
  "orig_nbformat": 4,
  "vscode": {
   "interpreter": {
    "hash": "56629ccc9ec10eaf3ebbcd1cc3c826e490b94fc9b83714ce92d07d5e717c092b"
   }
  }
 },
 "nbformat": 4,
 "nbformat_minor": 2
}
